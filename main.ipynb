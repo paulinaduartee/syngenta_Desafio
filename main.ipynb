{
 "cells": [
  {
   "cell_type": "code",
   "execution_count": 1,
   "metadata": {},
   "outputs": [],
   "source": [
    "from datetime import datetime,date\n",
    "from dateutil import tz, parser\n",
    "from src.module.hotels import Hotels"
   ]
  },
  {
   "cell_type": "code",
   "execution_count": 2,
   "metadata": {},
   "outputs": [],
   "source": [
    "Lakewood = Hotels(name='Lakewood',classification=3,regular_weekday=110,regular_weekend=90,rewards_weekday=80,rewards_weekend=80)\n",
    "Bridgewood = Hotels(name='Bridgewood',classification=4,regular_weekday=160,regular_weekend=60,rewards_weekday=110,rewards_weekend=50)\n",
    "Ridgewood = Hotels(name='Ridgewood',classification=5,regular_weekday=220,regular_weekend=150,rewards_weekday=100,rewards_weekend=40)"
   ]
  },
  {
   "cell_type": "code",
   "execution_count": 3,
   "metadata": {},
   "outputs": [],
   "source": [
    "hotels = [Lakewood,Bridgewood,Ridgewood]"
   ]
  },
  {
   "cell_type": "code",
   "execution_count": 4,
   "metadata": {},
   "outputs": [],
   "source": [
    "response = \"Regular: 16Mar2009(mon), 17Mar2009(tues), 18Mar2009(wed)\""
   ]
  },
  {
   "cell_type": "code",
   "execution_count": 5,
   "metadata": {},
   "outputs": [],
   "source": [
    "[client, days_without_editing] =  response.split(':')"
   ]
  },
  {
   "cell_type": "code",
   "execution_count": 6,
   "metadata": {},
   "outputs": [
    {
     "data": {
      "text/plain": [
       "' 16Mar2009(mon), 17Mar2009(tues), 18Mar2009(wed)'"
      ]
     },
     "execution_count": 6,
     "metadata": {},
     "output_type": "execute_result"
    }
   ],
   "source": [
    "days_without_editing"
   ]
  },
  {
   "cell_type": "code",
   "execution_count": 7,
   "metadata": {},
   "outputs": [],
   "source": [
    "days = days_without_editing.split(',')"
   ]
  },
  {
   "cell_type": "code",
   "execution_count": 8,
   "metadata": {},
   "outputs": [
    {
     "data": {
      "text/plain": [
       "[' 16Mar2009(mon)', ' 17Mar2009(tues)', ' 18Mar2009(wed)']"
      ]
     },
     "execution_count": 8,
     "metadata": {},
     "output_type": "execute_result"
    }
   ],
   "source": [
    "days"
   ]
  },
  {
   "cell_type": "code",
   "execution_count": 9,
   "metadata": {},
   "outputs": [],
   "source": [
    "formated_days = []"
   ]
  },
  {
   "cell_type": "code",
   "execution_count": 10,
   "metadata": {},
   "outputs": [],
   "source": [
    "for day in days:\n",
    "    date_formated = date(int(day[6:10]),datetime.strptime(day[3:6], \"%b\").month,int(day[1:3]))\n",
    "    formated_days.append(date_formated)"
   ]
  },
  {
   "cell_type": "code",
   "execution_count": 11,
   "metadata": {},
   "outputs": [],
   "source": [
    "hotel_values = []"
   ]
  },
  {
   "cell_type": "code",
   "execution_count": 12,
   "metadata": {},
   "outputs": [],
   "source": [
    "for hotel in hotels:\n",
    "    value = 0 \n",
    "    for day in formated_days:\n",
    "        if day.isoweekday() <= 5:\n",
    "            value+=hotel.get_weekday(client)\n",
    "        else:\n",
    "            value+=hotel.get_weekend(client)\n",
    "    hotel_values.append({'name': hotel.name, 'classification': hotel.classification,'value': value})"
   ]
  },
  {
   "cell_type": "code",
   "execution_count": 13,
   "metadata": {},
   "outputs": [
    {
     "data": {
      "text/plain": [
       "[{'name': 'Lakewood', 'classification': 3, 'value': 330},\n",
       " {'name': 'Bridgewood', 'classification': 4, 'value': 480},\n",
       " {'name': 'Ridgewood', 'classification': 5, 'value': 660}]"
      ]
     },
     "execution_count": 13,
     "metadata": {},
     "output_type": "execute_result"
    }
   ],
   "source": [
    "hotel_values"
   ]
  },
  {
   "cell_type": "code",
   "execution_count": 20,
   "metadata": {},
   "outputs": [],
   "source": [
    "def get_lower_value(hotels_value: list):\n",
    "    result = []\n",
    "    lower_value=0\n",
    "    for hotel in hotels_value:\n",
    "        if lower_value == 0:\n",
    "            lower_value=hotel['value']\n",
    "            result.append(hotel)\n",
    "        elif hotel['value'] < lower_value:\n",
    "            lower_value=hotel['value']\n",
    "            result = []\n",
    "            result.append(hotel)\n",
    "        elif lower_value == hotel['value']:\n",
    "            result.append(hotel)\n",
    "    return max(result, key=lambda x: x['classification'])['name']"
   ]
  },
  {
   "cell_type": "code",
   "execution_count": 21,
   "metadata": {},
   "outputs": [
    {
     "name": "stdout",
     "output_type": "stream",
     "text": [
      "[{'name': 'Lakewood', 'classification': 3, 'value': 330}]\n"
     ]
    },
    {
     "data": {
      "text/plain": [
       "'Lakewood'"
      ]
     },
     "execution_count": 21,
     "metadata": {},
     "output_type": "execute_result"
    }
   ],
   "source": [
    "get_lower_value(hotel_values)"
   ]
  }
 ],
 "metadata": {
  "interpreter": {
   "hash": "31f2aee4e71d21fbe5cf8b01ff0e069b9275f58929596ceb00d14d90e3e16cd6"
  },
  "kernelspec": {
   "display_name": "Python 3.8.10 64-bit",
   "language": "python",
   "name": "python3"
  },
  "language_info": {
   "codemirror_mode": {
    "name": "ipython",
    "version": 3
   },
   "file_extension": ".py",
   "mimetype": "text/x-python",
   "name": "python",
   "nbconvert_exporter": "python",
   "pygments_lexer": "ipython3",
   "version": "3.8.10"
  },
  "orig_nbformat": 4
 },
 "nbformat": 4,
 "nbformat_minor": 2
}
